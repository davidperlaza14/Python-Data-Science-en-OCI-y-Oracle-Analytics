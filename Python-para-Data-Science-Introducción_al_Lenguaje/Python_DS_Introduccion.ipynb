{
 "cells": [
  {
   "cell_type": "markdown",
   "metadata": {},
   "source": [
    "# **Python para DS  - Introduccion al Lenguaje**"
   ]
  },
  {
   "cell_type": "markdown",
   "metadata": {},
   "source": [
    "## Variables"
   ]
  },
  {
   "cell_type": "code",
   "execution_count": 17,
   "metadata": {},
   "outputs": [
    {
     "data": {
      "text/plain": [
       "2"
      ]
     },
     "execution_count": 17,
     "metadata": {},
     "output_type": "execute_result"
    }
   ],
   "source": [
    "1 + 1"
   ]
  },
  {
   "cell_type": "code",
   "execution_count": 18,
   "metadata": {},
   "outputs": [],
   "source": [
    "nombre = 'David'"
   ]
  },
  {
   "cell_type": "code",
   "execution_count": 19,
   "metadata": {},
   "outputs": [],
   "source": [
    "edad = 23"
   ]
  },
  {
   "cell_type": "markdown",
   "metadata": {},
   "source": [
    "## Mi Primera Funcion"
   ]
  },
  {
   "cell_type": "code",
   "execution_count": 20,
   "metadata": {},
   "outputs": [
    {
     "name": "stdout",
     "output_type": "stream",
     "text": [
      "Mi nombre es David y mi edad es 23\n"
     ]
    }
   ],
   "source": [
    "print(f'Mi nombre es {nombre} y mi edad es {edad}')"
   ]
  },
  {
   "cell_type": "code",
   "execution_count": 26,
   "metadata": {},
   "outputs": [],
   "source": [
    "def saludar():\n",
    "    nombre = input('Digite su nombre: ')\n",
    "    print(f'Hola {nombre} sea bienvenido!!!')"
   ]
  },
  {
   "cell_type": "code",
   "execution_count": 27,
   "metadata": {},
   "outputs": [
    {
     "name": "stdout",
     "output_type": "stream",
     "text": [
      "Hola David sea bienvenido!!!\n"
     ]
    }
   ],
   "source": [
    "saludar()"
   ]
  },
  {
   "cell_type": "code",
   "execution_count": 28,
   "metadata": {},
   "outputs": [
    {
     "name": "stdout",
     "output_type": "stream",
     "text": [
      "Hola Fernanda sea bienvenido!!!\n"
     ]
    }
   ],
   "source": [
    "saludar()"
   ]
  },
  {
   "cell_type": "code",
   "execution_count": 29,
   "metadata": {},
   "outputs": [
    {
     "name": "stdout",
     "output_type": "stream",
     "text": [
      "David Stiven Perlaza Valencia\n"
     ]
    }
   ],
   "source": [
    "def nombre_completo():\n",
    "    primer_nombre = input('Cual es tu primer nombre')\n",
    "    apellido = input('Cual es tu apellido')\n",
    "    nombre_completo = primer_nombre + ' ' + apellido\n",
    "    print(nombre_completo)\n",
    "\n",
    "nombre_completo()"
   ]
  },
  {
   "cell_type": "markdown",
   "metadata": {},
   "source": [
    "### Parametros"
   ]
  },
  {
   "cell_type": "code",
   "execution_count": 30,
   "metadata": {},
   "outputs": [],
   "source": [
    "nombre = 'Andrea'"
   ]
  },
  {
   "cell_type": "code",
   "execution_count": 31,
   "metadata": {},
   "outputs": [],
   "source": [
    "def saludar_con_parametros(nombre):\n",
    "    print(f'Hola {nombre} sea bienvenid@ !!!')"
   ]
  },
  {
   "cell_type": "code",
   "execution_count": 33,
   "metadata": {},
   "outputs": [
    {
     "name": "stdout",
     "output_type": "stream",
     "text": [
      "Hola Andrea sea bienvenid@ !!!\n"
     ]
    }
   ],
   "source": [
    "saludar_con_parametros(nombre)"
   ]
  },
  {
   "cell_type": "markdown",
   "metadata": {},
   "source": [
    "#### Ejecicio\n",
    "\n",
    "Una persona va a la panadería todos los días. La distancia de su casa hasta el lugar es de 100 metros y todo el recorrido se realiza en 20 segundos.\n",
    "\n",
    "Para calcular la velocidad promedio y encontrar la relación entre el espacio y el tiempo, podemos dividir el espacio recorrido por el tiempo.\n",
    "\n",
    "Sabiendo esto, la persona desea crear una función llamada velocidad, que reciba 2 parámetros llamados espacio y tiempo, que realice el cálculo respectivo y que muestre una salida semejante al siguiente ejemplo:\n",
    " \n",
    " Velocidad: 5 m/s"
   ]
  },
  {
   "cell_type": "code",
   "execution_count": 38,
   "metadata": {},
   "outputs": [
    {
     "name": "stdout",
     "output_type": "stream",
     "text": [
      "La velocidad es: 5.0 m/s\n"
     ]
    }
   ],
   "source": [
    "def velocidad(espacio, tiempo):\n",
    "    v = (espacio / tiempo)\n",
    "    print(f'La velocidad es: {v} m/s')\n",
    "\n",
    "velocidad(100,20)"
   ]
  },
  {
   "cell_type": "markdown",
   "metadata": {},
   "source": []
  },
  {
   "cell_type": "markdown",
   "metadata": {},
   "source": [
    "# Condicionales"
   ]
  },
  {
   "cell_type": "code",
   "execution_count": 43,
   "metadata": {},
   "outputs": [],
   "source": [
    "edad = 15\n",
    "\n",
    "def verificar_si_puede_conducir(edad):\n",
    "    if edad >= 18:\n",
    "        print('Usted tiene edad suficiente para condicir')\n",
    "    else:\n",
    "        print('Usted NO tiene edad suficiente para condicir')"
   ]
  },
  {
   "cell_type": "code",
   "execution_count": 44,
   "metadata": {},
   "outputs": [
    {
     "name": "stdout",
     "output_type": "stream",
     "text": [
      "Usted NO tiene edad suficiente para condicir\n"
     ]
    }
   ],
   "source": [
    "verificar_si_puede_conducir(edad)"
   ]
  },
  {
   "cell_type": "markdown",
   "metadata": {},
   "source": [
    "### Ejercicios \n",
    "Las sentencias condicionales son recursos que nos ayudan a ejecutar acciones donde tenemos diferentes opciones o caminos que seguir en función a reglas o condiciones. Evalúa la siguiente expresión condicional hecha en Python para descubrir cómo se interpreta la nota de NPS (Net Promoter Score) dada por un alumno a un curso de Alura."
   ]
  },
  {
   "cell_type": "code",
   "execution_count": 45,
   "metadata": {},
   "outputs": [
    {
     "name": "stdout",
     "output_type": "stream",
     "text": [
      "El alumno es considerado Promotor\n"
     ]
    }
   ],
   "source": [
    "def clasifcar_nps(nota):\n",
    "    if nota <= 6:\n",
    "        print('El alumno es considerado Detractor')\n",
    "    else:\n",
    "        if nota <= 8:\n",
    "            print('El alumno es considerado Neutro')\n",
    "        else:\n",
    "            print('El alumno es considerado Promotor')\n",
    "\n",
    "clasifcar_nps(9)"
   ]
  },
  {
   "cell_type": "markdown",
   "metadata": {},
   "source": [
    "### Conversión de tipos de datos"
   ]
  },
  {
   "cell_type": "code",
   "execution_count": 48,
   "metadata": {},
   "outputs": [
    {
     "name": "stdout",
     "output_type": "stream",
     "text": [
      "Usted tiene edad suficiente para condicir\n"
     ]
    }
   ],
   "source": [
    "def verificar_si_puede_conducir_sin_parametro():\n",
    "    edad = input('Digite su edad: ')\n",
    "    edad = int(edad)\n",
    "    if edad >= 18:\n",
    "        print('Usted tiene edad suficiente para condicir')\n",
    "    else:\n",
    "        print('Usted NO tiene edad suficiente para condicir')\n",
    "\n",
    "verificar_si_puede_conducir_sin_parametro()"
   ]
  },
  {
   "cell_type": "markdown",
   "metadata": {},
   "source": [
    "### Ejercicio\n",
    "Un científico de datos creó la siguiente función, para saber cuántos años le faltan a una persona para obtener su permiso de conducir. En caso de tener la edad permitida, un mensaje informará a la persona que ya puede obtenerlo."
   ]
  },
  {
   "cell_type": "code",
   "execution_count": 52,
   "metadata": {},
   "outputs": [
    {
     "name": "stdout",
     "output_type": "stream",
     "text": [
      "Ya tienes edad suficiente para obtener permiso de conducir\n"
     ]
    }
   ],
   "source": [
    "def permiso_de_conducir():\n",
    "    edad = int(input('Cual es tu edad?'))\n",
    "    if edad >= 18:\n",
    "        print('Ya tienes edad suficiente para obtener permiso de conducir')\n",
    "    else:\n",
    "        tiempo = 18 - edad\n",
    "        print(f'Tranquilo, le falta {tiempo} año(s)')\n",
    "\n",
    "permiso_de_conducir()"
   ]
  },
  {
   "cell_type": "code",
   "execution_count": null,
   "metadata": {},
   "outputs": [],
   "source": []
  },
  {
   "cell_type": "markdown",
   "metadata": {},
   "source": [
    "# Lista"
   ]
  },
  {
   "cell_type": "markdown",
   "metadata": {},
   "source": [
    "### Creando una lista"
   ]
  },
  {
   "cell_type": "code",
   "execution_count": null,
   "metadata": {},
   "outputs": [],
   "source": []
  }
 ],
 "metadata": {
  "kernelspec": {
   "display_name": "Python 3",
   "language": "python",
   "name": "python3"
  },
  "language_info": {
   "codemirror_mode": {
    "name": "ipython",
    "version": 3
   },
   "file_extension": ".py",
   "mimetype": "text/x-python",
   "name": "python",
   "nbconvert_exporter": "python",
   "pygments_lexer": "ipython3",
   "version": "3.8.10"
  }
 },
 "nbformat": 4,
 "nbformat_minor": 2
}
