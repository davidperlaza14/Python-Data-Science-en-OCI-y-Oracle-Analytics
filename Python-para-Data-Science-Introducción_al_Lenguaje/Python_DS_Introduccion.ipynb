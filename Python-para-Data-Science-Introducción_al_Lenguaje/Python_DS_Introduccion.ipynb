{
 "cells": [
  {
   "cell_type": "markdown",
   "metadata": {},
   "source": [
    "# **Python para DS  - Introduccion al Lenguaje**"
   ]
  },
  {
   "cell_type": "markdown",
   "metadata": {},
   "source": [
    "# Variables"
   ]
  },
  {
   "cell_type": "code",
   "execution_count": 17,
   "metadata": {},
   "outputs": [
    {
     "data": {
      "text/plain": [
       "2"
      ]
     },
     "execution_count": 17,
     "metadata": {},
     "output_type": "execute_result"
    }
   ],
   "source": [
    "1 + 1"
   ]
  },
  {
   "cell_type": "code",
   "execution_count": 18,
   "metadata": {},
   "outputs": [],
   "source": [
    "nombre = 'David'"
   ]
  },
  {
   "cell_type": "code",
   "execution_count": 19,
   "metadata": {},
   "outputs": [],
   "source": [
    "edad = 23"
   ]
  },
  {
   "cell_type": "markdown",
   "metadata": {},
   "source": [
    "## Para saber más: Nomenclatura de variables y tipo float\n",
    "\n",
    "Podemos pedirle a Python que recuerde un valor que queremos utilizar. Python almacenará este valor en una **variable**.\n",
    "\n",
    "Variable es un nombre que hace referencia a un valor. Es como una etiqueta que colocamos a ese valor y cuando necesitamos usarla, la llamamos por el nombre que se le asignó en la etiqueta.\n",
    "\n",
    "El comando de asignación (el signo igual =) crea una nueva variable y le asigna un valor, como vimos en clases.\n",
    "\n",
    "**Float**\n",
    "\n",
    "Además de los tipos que se vieron en la clase, existe un tipo para almacenar un valor decimal, como se muestra en el siguiente ejemplo:\n",
    "\n",
    "pi = 3.14\n",
    "type(pi)\n",
    "\n",
    "Al ejecutar ese código, podemos observar que la salida será:\n",
    "\n",
    "- <<'float'>>\n",
    "\n",
    "Observa que, en vez de separar el valor con coma (3,14), usamos un punto (3.14).\n",
    "\n",
    "**Nombre de las variables**\n",
    "\n",
    "Programadores eligen nombres para variables que sean semánticas. Estos nombres pueden ser muy largos, pueden contener letras y números.\n",
    "\n",
    "Es una convención entre los programadores de Python comenzar la variable con letras minúsculas y utilizar el underscore ( _ ) para separar palabras como: mi_nombre, numero_de_registro, telefono_residencial. Este patrón se llama snake case."
   ]
  },
  {
   "cell_type": "markdown",
   "metadata": {},
   "source": [
    "# Funcion"
   ]
  },
  {
   "cell_type": "code",
   "execution_count": 20,
   "metadata": {},
   "outputs": [
    {
     "name": "stdout",
     "output_type": "stream",
     "text": [
      "Mi nombre es David y mi edad es 23\n"
     ]
    }
   ],
   "source": [
    "print(f'Mi nombre es {nombre} y mi edad es {edad}')"
   ]
  },
  {
   "cell_type": "code",
   "execution_count": 26,
   "metadata": {},
   "outputs": [],
   "source": [
    "def saludar():\n",
    "    nombre = input('Digite su nombre: ')\n",
    "    print(f'Hola {nombre} sea bienvenido!!!')"
   ]
  },
  {
   "cell_type": "code",
   "execution_count": 27,
   "metadata": {},
   "outputs": [
    {
     "name": "stdout",
     "output_type": "stream",
     "text": [
      "Hola David sea bienvenido!!!\n"
     ]
    }
   ],
   "source": [
    "saludar()"
   ]
  },
  {
   "cell_type": "code",
   "execution_count": 28,
   "metadata": {},
   "outputs": [
    {
     "name": "stdout",
     "output_type": "stream",
     "text": [
      "Hola Fernanda sea bienvenido!!!\n"
     ]
    }
   ],
   "source": [
    "saludar()"
   ]
  },
  {
   "cell_type": "code",
   "execution_count": 29,
   "metadata": {},
   "outputs": [
    {
     "name": "stdout",
     "output_type": "stream",
     "text": [
      "David Stiven Perlaza Valencia\n"
     ]
    }
   ],
   "source": [
    "def nombre_completo():\n",
    "    primer_nombre = input('Cual es tu primer nombre')\n",
    "    apellido = input('Cual es tu apellido')\n",
    "    nombre_completo = primer_nombre + ' ' + apellido\n",
    "    print(nombre_completo)\n",
    "\n",
    "nombre_completo()"
   ]
  },
  {
   "cell_type": "markdown",
   "metadata": {},
   "source": [
    "### Parametros"
   ]
  },
  {
   "cell_type": "code",
   "execution_count": 30,
   "metadata": {},
   "outputs": [],
   "source": [
    "nombre = 'Andrea'"
   ]
  },
  {
   "cell_type": "code",
   "execution_count": 31,
   "metadata": {},
   "outputs": [],
   "source": [
    "def saludar_con_parametros(nombre):\n",
    "    print(f'Hola {nombre} sea bienvenid@ !!!')"
   ]
  },
  {
   "cell_type": "code",
   "execution_count": 33,
   "metadata": {},
   "outputs": [
    {
     "name": "stdout",
     "output_type": "stream",
     "text": [
      "Hola Andrea sea bienvenid@ !!!\n"
     ]
    }
   ],
   "source": [
    "saludar_con_parametros(nombre)"
   ]
  },
  {
   "cell_type": "markdown",
   "metadata": {},
   "source": [
    "#### Ejecicio\n",
    "\n",
    "Una persona va a la panadería todos los días. La distancia de su casa hasta el lugar es de 100 metros y todo el recorrido se realiza en 20 segundos.\n",
    "\n",
    "Para calcular la velocidad promedio y encontrar la relación entre el espacio y el tiempo, podemos dividir el espacio recorrido por el tiempo.\n",
    "\n",
    "Sabiendo esto, la persona desea crear una función llamada velocidad, que reciba 2 parámetros llamados espacio y tiempo, que realice el cálculo respectivo y que muestre una salida semejante al siguiente ejemplo:\n",
    " \n",
    " Velocidad: 5 m/s"
   ]
  },
  {
   "cell_type": "code",
   "execution_count": 38,
   "metadata": {},
   "outputs": [
    {
     "name": "stdout",
     "output_type": "stream",
     "text": [
      "La velocidad es: 5.0 m/s\n"
     ]
    }
   ],
   "source": [
    "def velocidad(espacio, tiempo):\n",
    "    v = (espacio / tiempo)\n",
    "    print(f'La velocidad es: {v} m/s')\n",
    "\n",
    "velocidad(100,20)"
   ]
  },
  {
   "cell_type": "markdown",
   "metadata": {},
   "source": []
  },
  {
   "cell_type": "markdown",
   "metadata": {},
   "source": [
    "# Condicionales"
   ]
  },
  {
   "cell_type": "code",
   "execution_count": 43,
   "metadata": {},
   "outputs": [],
   "source": [
    "edad = 15\n",
    "\n",
    "def verificar_si_puede_conducir(edad):\n",
    "    if edad >= 18:\n",
    "        print('Usted tiene edad suficiente para condicir')\n",
    "    else:\n",
    "        print('Usted NO tiene edad suficiente para condicir')"
   ]
  },
  {
   "cell_type": "code",
   "execution_count": 44,
   "metadata": {},
   "outputs": [
    {
     "name": "stdout",
     "output_type": "stream",
     "text": [
      "Usted NO tiene edad suficiente para condicir\n"
     ]
    }
   ],
   "source": [
    "verificar_si_puede_conducir(edad)"
   ]
  },
  {
   "cell_type": "markdown",
   "metadata": {},
   "source": [
    "### Ejercicios \n",
    "Las sentencias condicionales son recursos que nos ayudan a ejecutar acciones donde tenemos diferentes opciones o caminos que seguir en función a reglas o condiciones. Evalúa la siguiente expresión condicional hecha en Python para descubrir cómo se interpreta la nota de NPS (Net Promoter Score) dada por un alumno a un curso de Alura."
   ]
  },
  {
   "cell_type": "code",
   "execution_count": 45,
   "metadata": {},
   "outputs": [
    {
     "name": "stdout",
     "output_type": "stream",
     "text": [
      "El alumno es considerado Promotor\n"
     ]
    }
   ],
   "source": [
    "def clasifcar_nps(nota):\n",
    "    if nota <= 6:\n",
    "        print('El alumno es considerado Detractor')\n",
    "    else:\n",
    "        if nota <= 8:\n",
    "            print('El alumno es considerado Neutro')\n",
    "        else:\n",
    "            print('El alumno es considerado Promotor')\n",
    "\n",
    "clasifcar_nps(9)"
   ]
  },
  {
   "cell_type": "markdown",
   "metadata": {},
   "source": [
    "### Conversión de tipos de datos"
   ]
  },
  {
   "cell_type": "code",
   "execution_count": 48,
   "metadata": {},
   "outputs": [
    {
     "name": "stdout",
     "output_type": "stream",
     "text": [
      "Usted tiene edad suficiente para condicir\n"
     ]
    }
   ],
   "source": [
    "def verificar_si_puede_conducir_sin_parametro():\n",
    "    edad = input('Digite su edad: ')\n",
    "    edad = int(edad)\n",
    "    if edad >= 18:\n",
    "        print('Usted tiene edad suficiente para condicir')\n",
    "    else:\n",
    "        print('Usted NO tiene edad suficiente para condicir')\n",
    "\n",
    "verificar_si_puede_conducir_sin_parametro()"
   ]
  },
  {
   "cell_type": "markdown",
   "metadata": {},
   "source": [
    "### Ejercicio\n",
    "Un científico de datos creó la siguiente función, para saber cuántos años le faltan a una persona para obtener su permiso de conducir. En caso de tener la edad permitida, un mensaje informará a la persona que ya puede obtenerlo."
   ]
  },
  {
   "cell_type": "code",
   "execution_count": 52,
   "metadata": {},
   "outputs": [
    {
     "name": "stdout",
     "output_type": "stream",
     "text": [
      "Ya tienes edad suficiente para obtener permiso de conducir\n"
     ]
    }
   ],
   "source": [
    "def permiso_de_conducir():\n",
    "    edad = int(input('Cual es tu edad?'))\n",
    "    if edad >= 18:\n",
    "        print('Ya tienes edad suficiente para obtener permiso de conducir')\n",
    "    else:\n",
    "        tiempo = 18 - edad\n",
    "        print(f'Tranquilo, le falta {tiempo} año(s)')\n",
    "\n",
    "permiso_de_conducir()"
   ]
  },
  {
   "cell_type": "code",
   "execution_count": null,
   "metadata": {},
   "outputs": [],
   "source": []
  },
  {
   "cell_type": "markdown",
   "metadata": {},
   "source": [
    "# Lista"
   ]
  },
  {
   "cell_type": "markdown",
   "metadata": {},
   "source": [
    "### Creando una lista"
   ]
  },
  {
   "cell_type": "code",
   "execution_count": 2,
   "metadata": {},
   "outputs": [
    {
     "data": {
      "text/plain": [
       "12"
      ]
     },
     "execution_count": 2,
     "metadata": {},
     "output_type": "execute_result"
    }
   ],
   "source": [
    "edades = [18, 15, 12, 45, 50]\n",
    "edades[2]"
   ]
  },
  {
   "cell_type": "code",
   "execution_count": 4,
   "metadata": {},
   "outputs": [
    {
     "data": {
      "text/plain": [
       "[18, 15]"
      ]
     },
     "execution_count": 4,
     "metadata": {},
     "output_type": "execute_result"
    }
   ],
   "source": [
    "edades[0:2]"
   ]
  },
  {
   "cell_type": "code",
   "execution_count": 5,
   "metadata": {},
   "outputs": [
    {
     "data": {
      "text/plain": [
       "[15, 12, 45, 50]"
      ]
     },
     "execution_count": 5,
     "metadata": {},
     "output_type": "execute_result"
    }
   ],
   "source": [
    "edades[1:]"
   ]
  },
  {
   "cell_type": "code",
   "execution_count": null,
   "metadata": {},
   "outputs": [],
   "source": [
    "# [18, 15, 12, 45, 50]\n",
    "#  0   1    2   3   4"
   ]
  },
  {
   "cell_type": "markdown",
   "metadata": {},
   "source": [
    "### Diferentes tipos en una lista"
   ]
  },
  {
   "cell_type": "code",
   "execution_count": 16,
   "metadata": {},
   "outputs": [
    {
     "data": {
      "text/plain": [
       "['Maria', 25, True, 'Mexico']"
      ]
     },
     "execution_count": 16,
     "metadata": {},
     "output_type": "execute_result"
    }
   ],
   "source": [
    "persona = ['Maria', 25, True, 'Mexico']\n",
    "persona"
   ]
  },
  {
   "cell_type": "code",
   "execution_count": 21,
   "metadata": {},
   "outputs": [
    {
     "name": "stdout",
     "output_type": "stream",
     "text": [
      "El elemnto Maria de la lista es del tipo  <class 'str'>\n",
      "El elemnto 25 de la lista es del tipo  <class 'int'>\n",
      "El elemnto True de la lista es del tipo  <class 'bool'>\n",
      "El elemnto Mexico de la lista es del tipo  <class 'str'>\n"
     ]
    }
   ],
   "source": [
    "for  elemento in persona:\n",
    "    print(f'El elemnto {elemento} de la lista es del tipo ', type(elemento))"
   ]
  },
  {
   "cell_type": "markdown",
   "metadata": {},
   "source": [
    "# Bucles y Ciclos (Loops)"
   ]
  },
  {
   "cell_type": "markdown",
   "metadata": {},
   "source": [
    "## Ciclo For"
   ]
  },
  {
   "cell_type": "code",
   "execution_count": 22,
   "metadata": {},
   "outputs": [
    {
     "name": "stdout",
     "output_type": "stream",
     "text": [
      "Usted tiene edad suficiente para condicir\n",
      "Usted NO tiene edad suficiente para condicir\n",
      "Usted NO tiene edad suficiente para condicir\n",
      "Usted tiene edad suficiente para condicir\n",
      "Usted tiene edad suficiente para condicir\n"
     ]
    }
   ],
   "source": [
    "# Bucle fuera de la funcion\n",
    "edades = [18, 15, 12, 45, 50]\n",
    "\n",
    "def verificar_si_puede_conducir(edad):\n",
    "    if edad >= 18:\n",
    "        print('Usted tiene edad suficiente para condicir')\n",
    "    else:\n",
    "        print('Usted NO tiene edad suficiente para condicir')\n",
    "\n",
    "for edad in edades:\n",
    "    verificar_si_puede_conducir(edad)"
   ]
  },
  {
   "cell_type": "code",
   "execution_count": 23,
   "metadata": {},
   "outputs": [
    {
     "name": "stdout",
     "output_type": "stream",
     "text": [
      "Puede conducir\n",
      "NO puede conducir\n",
      "NO puede conducir\n",
      "Puede conducir\n",
      "Puede conducir\n"
     ]
    }
   ],
   "source": [
    "# Bucle dentro de la funcion\n",
    "edades = [18, 15, 12, 45, 50]\n",
    "\n",
    "def verificar_si_puede_conducir_con_bucle(edades):\n",
    "    for edad in edades:\n",
    "        if edad >= 18:\n",
    "            print(\"Puede conducir\")\n",
    "        else:\n",
    "            print(\"NO puede conducir\")\n",
    "\n",
    "verificar_si_puede_conducir_con_bucle(edades)"
   ]
  },
  {
   "cell_type": "markdown",
   "metadata": {},
   "source": [
    "#  Tipo Booleano"
   ]
  },
  {
   "cell_type": "code",
   "execution_count": 24,
   "metadata": {},
   "outputs": [
    {
     "name": "stdout",
     "output_type": "stream",
     "text": [
      "Usted tiene edad suficiente para condicir\n",
      "Usted NO tiene edad suficiente para condicir\n",
      "Usted NO tiene edad suficiente para condicir\n"
     ]
    }
   ],
   "source": [
    "verificaciones = []\n",
    "edades = [18, 15, 12]\n",
    "\n",
    "def verificar_si_puede_conducir_bool(verificaciones, edades):\n",
    "    for edad in edades:\n",
    "        if edad >= 18:\n",
    "            verificaciones.append(True)\n",
    "        else:\n",
    "            verificaciones.append(False)\n",
    "    for verificacion in verificaciones:\n",
    "        if verificacion == True:\n",
    "            print('Usted tiene edad suficiente para condicir')\n",
    "        else:\n",
    "            print('Usted NO tiene edad suficiente para condicir')\n",
    "            \n",
    "\n",
    "verificar_si_puede_conducir_bool(verificaciones, edades)\n"
   ]
  },
  {
   "cell_type": "markdown",
   "metadata": {},
   "source": [
    "# Importando una Biblioteca"
   ]
  },
  {
   "cell_type": "code",
   "execution_count": 60,
   "metadata": {},
   "outputs": [
    {
     "data": {
      "text/plain": [
       "7"
      ]
     },
     "execution_count": 60,
     "metadata": {},
     "output_type": "execute_result"
    }
   ],
   "source": [
    "from random import randrange, seed\n",
    "\n",
    "randrange(0,11)"
   ]
  },
  {
   "cell_type": "code",
   "execution_count": 61,
   "metadata": {},
   "outputs": [
    {
     "data": {
      "text/plain": [
       "[3]"
      ]
     },
     "execution_count": 61,
     "metadata": {},
     "output_type": "execute_result"
    }
   ],
   "source": [
    "# Lista con números aleatorios\n",
    "\n",
    "# notas_matematicas = []\n",
    "# notas_matematicas.append(randrange(0,11))\n",
    "# notas_matematicas"
   ]
  },
  {
   "cell_type": "code",
   "execution_count": 75,
   "metadata": {},
   "outputs": [],
   "source": [
    "notas_matematicas = []\n",
    "seed(8)\n",
    "for notas in range(6):\n",
    "    notas_matematicas.append(randrange(0,11))"
   ]
  },
  {
   "cell_type": "code",
   "execution_count": 77,
   "metadata": {},
   "outputs": [
    {
     "data": {
      "text/plain": [
       "[3, 5, 6, 2, 3, 0]"
      ]
     },
     "execution_count": 77,
     "metadata": {},
     "output_type": "execute_result"
    }
   ],
   "source": [
    "notas_matematicas"
   ]
  },
  {
   "cell_type": "code",
   "execution_count": 59,
   "metadata": {},
   "outputs": [
    {
     "data": {
      "text/plain": [
       "6"
      ]
     },
     "execution_count": 59,
     "metadata": {},
     "output_type": "execute_result"
    }
   ],
   "source": [
    "len(notas_matematicas)"
   ]
  },
  {
   "cell_type": "markdown",
   "metadata": {},
   "source": [
    "# Creando un Gráfico"
   ]
  },
  {
   "cell_type": "code",
   "execution_count": 78,
   "metadata": {},
   "outputs": [
    {
     "data": {
      "text/plain": [
       "[1, 2, 3, 4, 5, 6]"
      ]
     },
     "execution_count": 78,
     "metadata": {},
     "output_type": "execute_result"
    }
   ],
   "source": [
    "# Biblioteca Matplotlib para graficos\n",
    "# import matplotlib.pyplot as plt\n",
    "# list(range(1,7))"
   ]
  },
  {
   "cell_type": "code",
   "execution_count": 120,
   "metadata": {},
   "outputs": [],
   "source": [
    "# x = list(range(1,7))\n",
    "# y = notas_matematicas\n",
    "\n",
    "# plt.plot(x,y, marker = 'o')\n",
    "# plt.title('Grafico de las notas de Matematicas')\n",
    "# plt.xlabel('Pruebas')\n",
    "# plt.ylabel('notas')\n",
    "# plt.show()\n"
   ]
  },
  {
   "cell_type": "markdown",
   "metadata": {},
   "source": [
    "### Analizando gráficamente el desempeño escolar\n",
    "\n",
    "- Ejercicio"
   ]
  },
  {
   "cell_type": "code",
   "execution_count": 130,
   "metadata": {},
   "outputs": [],
   "source": [
    "import matplotlib.pyplot as plt\n",
    "\n",
    "notas_matematica = ['Matemática',8,7,6,6,7,7,8,10]\n",
    "notas_lenguaje = ['Lenguaje',9,9,9,8,5,6,8,5]\n",
    "notas_geografia = ['Geografía',10,10,6,7,7,7,8,7]\n",
    "\n",
    "notas = [notas_matematica, notas_lenguaje, notas_geografia]"
   ]
  },
  {
   "cell_type": "code",
   "execution_count": 133,
   "metadata": {},
   "outputs": [
    {
     "data": {
      "image/png": "[encoded data removed]",
      "text/plain": [
       "<Figure size 640x480 with 1 Axes>"
      ]
     },
     "metadata": {},
     "output_type": "display_data"
    },
    {
     "data": {
      "image/png": "[encoded data removed]",
      "text/plain": [
       "<Figure size 640x480 with 1 Axes>"
      ]
     },
     "metadata": {},
     "output_type": "display_data"
    },
    {
     "data": {
      "image/png": "[encoded data removed]",
      "text/plain": [
       "<Figure size 640x480 with 1 Axes>"
      ]
     },
     "metadata": {},
     "output_type": "display_data"
    }
   ],
   "source": [
    "for nota in notas:\n",
    " x = list(range(1, 9))\n",
    " y = nota[1:]\n",
    " plt.plot(x, y, marker='o')\n",
    " plt.xlabel('Exámenes')\n",
    " plt.ylabel('Notas')\n",
    " plt.title(nota[0])\n",
    " plt.show()"
   ]
  }
 ],
 "metadata": {
  "kernelspec": {
   "display_name": "Python 3",
   "language": "python",
   "name": "python3"
  },
  "language_info": {
   "codemirror_mode": {
    "name": "ipython",
    "version": 3
   },
   "file_extension": ".py",
   "mimetype": "text/x-python",
   "name": "python",
   "nbconvert_exporter": "python",
   "pygments_lexer": "ipython3",
   "version": "3.8.10"
  }
 },
 "nbformat": 4,
 "nbformat_minor": 2
}
